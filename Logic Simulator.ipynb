{
 "cells": [
  {
   "cell_type": "markdown",
   "metadata": {},
   "source": [
    "# Logic Simulation"
   ]
  },
  {
   "cell_type": "code",
   "execution_count": 14,
   "metadata": {},
   "outputs": [],
   "source": [
    "# Importing Libraries\n",
    "import numpy as np\n",
    "import networkx as nx\n",
    "from collections import deque"
   ]
  },
  {
   "cell_type": "markdown",
   "metadata": {},
   "source": [
    "We start with a function that reads the netlist and returns a list of tuples (*nodes*) of the joint edges and dictionary (*gates) which classifies the nodes as primary input or a gate type.\n",
    "\n",
    "`add_gate_type()` nested function is used to classify nodes as gates."
   ]
  },
  {
   "cell_type": "code",
   "execution_count": 15,
   "metadata": {},
   "outputs": [],
   "source": [
    "def readNet(file):\n",
    "    try: \n",
    "        with open(file, \"r\") as filehandle:\n",
    "            data = filehandle.read().split(\"\\n\")\n",
    "        # Raise exception if file not found\n",
    "    except Exception as ex:\n",
    "        print(ex)\n",
    "        return\n",
    "\n",
    "    # Classifying nodes as PI, gates\n",
    "    def add_gate_type(gate_name, gate_type, gate_dict):\n",
    "        if gate_name not in gate_dict.keys():\n",
    "            gate_dict[gate_name] = gate_type\n",
    "        else:\n",
    "            if gate_dict[gate_name] == 'PI':\n",
    "                gate_dict[gate_name] = gate_type\n",
    "\n",
    "    nodes = []\n",
    "    gates = {}\n",
    "    for line in data:\n",
    "        # Skip for blank lines\n",
    "        if line == '':\n",
    "            continue\n",
    "        i = line.split()\n",
    "        if i[1] == 'buf':\n",
    "            nodes.append((i[2], i[3]))\n",
    "            add_gate_type(i[2], 'PI', gates)    \n",
    "            add_gate_type(i[3], 'buf', gates)    \n",
    "            continue\n",
    "        if i[1] == 'inv':\n",
    "            nodes.append((i[2], i[3]))\n",
    "            add_gate_type(i[2], 'PI', gates)    \n",
    "            add_gate_type(i[3], 'inv', gates)    \n",
    "        else:\n",
    "            nodes.append((i[2], i[4]))\n",
    "            nodes.append((i[3], i[4]))\n",
    "            add_gate_type(i[2], 'PI', gates)\n",
    "            add_gate_type(i[3], 'PI', gates)\n",
    "            add_gate_type(i[4], i[1], gates)\n",
    "            \n",
    "    return nodes, gates"
   ]
  },
  {
   "cell_type": "markdown",
   "metadata": {},
   "source": [
    "We then define a function to perform bit operations from the input bits of the node predecessors. </br>\n",
    "We pass gate_dict as an argument to identify the output gate type."
   ]
  },
  {
   "cell_type": "code",
   "execution_count": 16,
   "metadata": {},
   "outputs": [],
   "source": [
    "def gate_op(node, bit1, bit2, gate_dict):\n",
    "    gate_type = gate_dict[node]\n",
    "    if gate_type == 'inv':\n",
    "        return int(not(bit1))\n",
    "    elif gate_type == 'and2':\n",
    "        return int((bit1 and bit2))\n",
    "    elif gate_type == 'or2':\n",
    "        return int((bit1 or bit2))\n",
    "    elif gate_type == 'nor2':\n",
    "        return int(not(bit1 or bit2))\n",
    "    elif gate_type == 'nand2':\n",
    "        return int(not(bit1 and bit2))\n",
    "    elif gate_type == 'xor2':\n",
    "        return int(bit1^bit2)\n",
    "    elif gate_type == 'xnor2':\n",
    "        return int(not(bit1^bit2))\n",
    "    elif gate_type == 'buf':\n",
    "        return int(bit1)"
   ]
  },
  {
   "cell_type": "code",
   "execution_count": 17,
   "metadata": {},
   "outputs": [],
   "source": [
    "# Defining a function to perform bitwise XOR and XNOR\n",
    "def xor(x, y):\n",
    "    return int((x and not y) and (not x and y))\n",
    "\n",
    "def xnor(x, y):\n",
    "    return int(not((x and not y) and (not x and y)))    "
   ]
  },
  {
   "cell_type": "markdown",
   "metadata": {},
   "source": [
    "`topo_simulate_gate()` and `event_simulate_gate()` are functions that takes the netlist and input files as arguments. If either file paths are wrong, exceptions are raised.\n",
    "\n",
    "Upon evaluating the logic circuit, a new file *out_file* is created and output vectors are stored in alphabetical order of net-names.\n",
    "\n",
    "We read the netlist using `readNet()` which returns the edges and gate-type dictionaries. </br>\n",
    "We create an acyclic graph using the imported `networkx` library. If cycles are found in the graph, or simply the circuit has combinational loops, an exception is raised."
   ]
  },
  {
   "cell_type": "markdown",
   "metadata": {},
   "source": [
    "## Topologically ordered evaluation\n",
    "\n",
    "**Algorithm:**\n",
    "After a Digraph is created, we use `topological_sort()` to arrange the nets in topological order.\n",
    "\n",
    "We then read bits from the input files and apply logic operations in accordance with our topological order.\n",
    "\n",
    "output_dict is a dictionary holding output vectors as lists. For non-PI type nodes, we access this dictionary to find its predecessor node bits and apply logic operations to find the output bit."
   ]
  },
  {
   "cell_type": "code",
   "execution_count": 18,
   "metadata": {},
   "outputs": [],
   "source": [
    "def topo_simulate_gate(net_file, inp_file, out_file):\n",
    "    nodes, gates = readNet(net_file)\n",
    "    graph = nx.DiGraph()\n",
    "    graph.add_edges_from(nodes)\n",
    "\n",
    "    # Raise exception for combinational loops\n",
    "    if(nx.is_directed_acyclic_graph(graph) == False):\n",
    "        raise Exception(\"Error in netlist, combinational loops found\")\n",
    "    \n",
    "    # Topologically sort\n",
    "    nl = list(nx.topological_sort(graph))\n",
    "        \n",
    "    output_dict = {}\n",
    "    gate_inputs = [k for k,v in gates.items() if v == 'PI']\n",
    "    # Sort PI type nodes alphabetically\n",
    "    gate_inputs.sort(key=lambda item: (len(item), item))\n",
    "    \n",
    "    # Assign an dictionary to hold output vectors\n",
    "    for i in range(len(nl)):\n",
    "        output_dict[nl[i]] = []\n",
    "    \n",
    "    try: \n",
    "        with open(inp_file, \"r\") as filehandle:\n",
    "            data = filehandle.read().split(\"\\n\")\n",
    "        # Raise exception if file not found\n",
    "    except Exception as ex:\n",
    "        print(ex)\n",
    "        exit()    \n",
    "\n",
    "    for line in data[1:]:\n",
    "        # Skip blank lines\n",
    "        if line == '':\n",
    "            continue\n",
    "        i = line.split()\n",
    "        # Read input file for PI nodes\n",
    "        for j in range(len(gate_inputs)):\n",
    "            output_dict[gate_inputs[j]].append((int(i[j])))\n",
    "        \n",
    "        # For non-PI nodes, apply logic operations to predecessors\n",
    "        for j in range(len(gate_inputs), len(nl), 1):\n",
    "            in1 = output_dict[list(graph.predecessors(nl[j]))[0]][-1]\n",
    "            if gates[nl[j]] == 'inv' or gates[nl[j]] == 'buf':\n",
    "                in2 = -1\n",
    "            else:\n",
    "                in2 = output_dict[list(graph.predecessors(nl[j]))[1]][-1]\n",
    "            output_dict[nl[j]].append(gate_op(nl[j], in1, in2, gates))\n",
    "    \n",
    "    # Sort all gates alphabetically            \n",
    "    ordered_gates = [k for k,v in output_dict.items()]\n",
    "    ordered_gates.sort(key=lambda item: (len(item), item))\n",
    "    \n",
    "    # Write output to output file\n",
    "    with open(out_file, 'w') as f:\n",
    "        print(*ordered_gates, file=f)\n",
    "        for i in range(len(output_dict[ordered_gates[0]])):\n",
    "            bits = []\n",
    "            for node in ordered_gates:\n",
    "                bits.append(output_dict[node][i])\n",
    "            print(*bits, file = f)"
   ]
  },
  {
   "cell_type": "code",
   "execution_count": 6,
   "metadata": {},
   "outputs": [
    {
     "name": "stdout",
     "output_type": "stream",
     "text": [
      "[Errno 2] No such file or directory: 'benchmarks/c17.net'\n"
     ]
    },
    {
     "ename": "TypeError",
     "evalue": "cannot unpack non-iterable NoneType object",
     "output_type": "error",
     "traceback": [
      "\u001b[0;31m---------------------------------------------------------------------------\u001b[0m",
      "\u001b[0;31mTypeError\u001b[0m                                 Traceback (most recent call last)",
      "Cell \u001b[0;32mIn[6], line 1\u001b[0m\n\u001b[0;32m----> 1\u001b[0m \u001b[43mget_ipython\u001b[49m\u001b[43m(\u001b[49m\u001b[43m)\u001b[49m\u001b[38;5;241;43m.\u001b[39;49m\u001b[43mrun_line_magic\u001b[49m\u001b[43m(\u001b[49m\u001b[38;5;124;43m'\u001b[39;49m\u001b[38;5;124;43mtimeit\u001b[39;49m\u001b[38;5;124;43m'\u001b[39;49m\u001b[43m,\u001b[49m\u001b[43m \u001b[49m\u001b[38;5;124;43m\"\u001b[39;49m\u001b[38;5;124;43mtopo_simulate_gate(\u001b[39;49m\u001b[38;5;124;43m'\u001b[39;49m\u001b[38;5;124;43mbenchmarks/c17.net\u001b[39;49m\u001b[38;5;124;43m'\u001b[39;49m\u001b[38;5;124;43m, \u001b[39;49m\u001b[38;5;124;43m'\u001b[39;49m\u001b[38;5;124;43mbenchmarks/c17.inputs\u001b[39;49m\u001b[38;5;124;43m'\u001b[39;49m\u001b[38;5;124;43m, \u001b[39;49m\u001b[38;5;124;43m'\u001b[39;49m\u001b[38;5;124;43mc17.outputs\u001b[39;49m\u001b[38;5;124;43m'\u001b[39;49m\u001b[38;5;124;43m)\u001b[39;49m\u001b[38;5;124;43m\"\u001b[39;49m\u001b[43m)\u001b[49m\n",
      "File \u001b[0;32m~/.local/lib/python3.8/site-packages/IPython/core/interactiveshell.py:2369\u001b[0m, in \u001b[0;36mInteractiveShell.run_line_magic\u001b[0;34m(self, magic_name, line, _stack_depth)\u001b[0m\n\u001b[1;32m   2367\u001b[0m     kwargs[\u001b[39m'\u001b[39m\u001b[39mlocal_ns\u001b[39m\u001b[39m'\u001b[39m] \u001b[39m=\u001b[39m \u001b[39mself\u001b[39m\u001b[39m.\u001b[39mget_local_scope(stack_depth)\n\u001b[1;32m   2368\u001b[0m \u001b[39mwith\u001b[39;00m \u001b[39mself\u001b[39m\u001b[39m.\u001b[39mbuiltin_trap:\n\u001b[0;32m-> 2369\u001b[0m     result \u001b[39m=\u001b[39m fn(\u001b[39m*\u001b[39;49margs, \u001b[39m*\u001b[39;49m\u001b[39m*\u001b[39;49mkwargs)\n\u001b[1;32m   2370\u001b[0m \u001b[39mreturn\u001b[39;00m result\n",
      "File \u001b[0;32m~/.local/lib/python3.8/site-packages/IPython/core/magics/execution.py:1162\u001b[0m, in \u001b[0;36mExecutionMagics.timeit\u001b[0;34m(self, line, cell, local_ns)\u001b[0m\n\u001b[1;32m   1160\u001b[0m \u001b[39mfor\u001b[39;00m index \u001b[39min\u001b[39;00m \u001b[39mrange\u001b[39m(\u001b[39m0\u001b[39m, \u001b[39m10\u001b[39m):\n\u001b[1;32m   1161\u001b[0m     number \u001b[39m=\u001b[39m \u001b[39m10\u001b[39m \u001b[39m*\u001b[39m\u001b[39m*\u001b[39m index\n\u001b[0;32m-> 1162\u001b[0m     time_number \u001b[39m=\u001b[39m timer\u001b[39m.\u001b[39;49mtimeit(number)\n\u001b[1;32m   1163\u001b[0m     \u001b[39mif\u001b[39;00m time_number \u001b[39m>\u001b[39m\u001b[39m=\u001b[39m \u001b[39m0.2\u001b[39m:\n\u001b[1;32m   1164\u001b[0m         \u001b[39mbreak\u001b[39;00m\n",
      "File \u001b[0;32m~/.local/lib/python3.8/site-packages/IPython/core/magics/execution.py:156\u001b[0m, in \u001b[0;36mTimer.timeit\u001b[0;34m(self, number)\u001b[0m\n\u001b[1;32m    154\u001b[0m gc\u001b[39m.\u001b[39mdisable()\n\u001b[1;32m    155\u001b[0m \u001b[39mtry\u001b[39;00m:\n\u001b[0;32m--> 156\u001b[0m     timing \u001b[39m=\u001b[39m \u001b[39mself\u001b[39;49m\u001b[39m.\u001b[39;49minner(it, \u001b[39mself\u001b[39;49m\u001b[39m.\u001b[39;49mtimer)\n\u001b[1;32m    157\u001b[0m \u001b[39mfinally\u001b[39;00m:\n\u001b[1;32m    158\u001b[0m     \u001b[39mif\u001b[39;00m gcold:\n",
      "File \u001b[0;32m<magic-timeit>:1\u001b[0m, in \u001b[0;36minner\u001b[0;34m(_it, _timer)\u001b[0m\n",
      "Cell \u001b[0;32mIn[5], line 2\u001b[0m, in \u001b[0;36mtopo_simulate_gate\u001b[0;34m(net_file, inp_file, out_file)\u001b[0m\n\u001b[1;32m      1\u001b[0m \u001b[38;5;28;01mdef\u001b[39;00m \u001b[38;5;21mtopo_simulate_gate\u001b[39m(net_file, inp_file, out_file):\n\u001b[0;32m----> 2\u001b[0m     nodes, gates \u001b[38;5;241m=\u001b[39m readNet(net_file)\n\u001b[1;32m      3\u001b[0m     graph \u001b[38;5;241m=\u001b[39m nx\u001b[38;5;241m.\u001b[39mDiGraph()\n\u001b[1;32m      4\u001b[0m     graph\u001b[38;5;241m.\u001b[39madd_edges_from(nodes)\n",
      "\u001b[0;31mTypeError\u001b[0m: cannot unpack non-iterable NoneType object"
     ]
    }
   ],
   "source": [
    "%timeit topo_simulate_gate('benchmarks/c17.net', 'benchmarks/c17.inputs', 'what_c17.outputs')"
   ]
  },
  {
   "cell_type": "markdown",
   "metadata": {},
   "source": [
    "## Event-driven evaluation\n",
    "\n",
    "**Algorithm:**\n",
    "For the first output vector, we start with assigning x to the state table. *waitlist* is a queue of nodes. </br>\n",
    "We first queue all the PI nodes to our waitlist, and start dequeing.\n",
    "\n",
    "For PI nodes, we simply read the bit from the first line of the input file and dequeue it and append it to the list followed by queing all its succesor nodes.\n",
    "\n",
    "*gate_bits* is a dictionary which holds lists for each node.\n",
    "\n",
    "For non-PI nodes, we first check if its predecessors bits are defined or simply put, the list holding outputs is empty for that node or contains `None`. If this is the case, we simply dequeue the node with queing anything.\n",
    "Else, we access its predecessor bits and apply gate operations to find the output bit and append it to the list followed by dequeing the nodes and queing all the successor nodes.\n",
    "\n",
    "`bit_deque()` function returns the bit to be appended.</br> \n",
    "For PI nodes, the bit is returned. </br>\n",
    "For non-PI nodes, we apply logic operations on the predecessor bits (if defined) to find the bit to append to the  node list.\n",
    "\n",
    "We follow this process until the queue is empty (when the state table is defined for all the nodes). We then extract the latest bit for each node from its corresponding list as that is its true value.\n",
    "\n",
    "After the state table is filled, we make a new queue *q*. We queue to q only if the input bit corresponding to that node is changed. If so, we dequeue the node followed by adding all its successor nodes and follow the same process for this node. \n",
    "\n",
    "`solve_queue()` is a recursive function which performs above algorithm until queue is emptied."
   ]
  },
  {
   "cell_type": "code",
   "execution_count": 19,
   "metadata": {},
   "outputs": [],
   "source": [
    "def event_simulate_gate(net_file, inp_file, out_file):\n",
    "    outputFile = open(out_file, \"w\")\n",
    "    edges, gate_type = readNet(net_file)\n",
    "    event_graph = nx.DiGraph()\n",
    "    event_graph.add_edges_from(edges)\n",
    "    nx.set_node_attributes(event_graph, gate_type, name='gateType')\n",
    "\n",
    "    # Raise exception for combinational loops\n",
    "    if(nx.is_directed_acyclic_graph(event_graph) == False):\n",
    "        raise Exception(\"Error in netlist, combinational loops found\")\n",
    "\n",
    "    # list holding all PI nodes\n",
    "    input_gate = [k for k,v in gate_type.items() if v == 'PI']\n",
    "    # Sorting in alphabetical order\n",
    "    input_gate.sort(key=lambda item: (len(item), item))\n",
    "    all_nodes = [k for k,v in gate_type.items()]\n",
    "\n",
    "    # Queue for nodes\n",
    "    waitlist = deque()\n",
    "    # queing all primary inputs\n",
    "    for i in input_gate:\n",
    "        waitlist.append(i)\n",
    "    # Reading input file\n",
    "    try: \n",
    "        with open(inp_file, \"r\") as filehandle:\n",
    "            data = filehandle.read().split(\"\\n\")\n",
    "\n",
    "    # Raise exception if file not found\n",
    "    except Exception as ex:\n",
    "        print(ex)\n",
    "        exit()\n",
    "    \n",
    "    # Dictionary to hold outputs\n",
    "    gate_bits = {}\n",
    "    for i in range(len(all_nodes)):\n",
    "        gate_bits[all_nodes[i]] = []\n",
    "\n",
    "    def bit_dequeue(node_name, pi_bit=-1):\n",
    "        # Check if node is PI or not\n",
    "        if pi_bit != -1:\n",
    "            return pi_bit\n",
    "        else:\n",
    "        # Check if predecessors bit is defined   \n",
    "            for pred in list(event_graph.predecessors(node_name)):\n",
    "                if gate_bits[pred] == []:\n",
    "                    return\n",
    "                if gate_bits[pred][-1] == None:\n",
    "                    return  \n",
    "            # Apply gate operations\n",
    "            if gate_type[node_name] == 'inv':\n",
    "                return int(not(gate_bits[list(event_graph.predecessors(node_name))[0]][-1]))\n",
    "            elif gate_type[node_name] == 'and2':\n",
    "                return int((gate_bits[list(event_graph.predecessors(node_name))[0]][-1] and gate_bits[list(event_graph.predecessors(node_name))[1]][-1]))\n",
    "            elif gate_type[node_name] == 'or2':\n",
    "                return int((gate_bits[list(event_graph.predecessors(node_name))[0]][-1] or gate_bits[list(event_graph.predecessors(node_name))[1]][-1]))\n",
    "            elif gate_type[node_name] == 'nand2':\n",
    "                return int(not((gate_bits[list(event_graph.predecessors(node_name))[0]][-1] and gate_bits[list(event_graph.predecessors(node_name))[1]][-1])))\n",
    "            elif gate_type[node_name] == 'nor2':\n",
    "                return int(not((gate_bits[list(event_graph.predecessors(node_name))[0]][-1] or gate_bits[list(event_graph.predecessors(node_name))[1]][-1])))\n",
    "            elif gate_type[node_name] == 'xor2':\n",
    "                return xor(gate_bits[list(event_graph.predecessors(node_name))[0]][-1], gate_bits[list(event_graph.predecessors(node_name))[1]][-1])\n",
    "            elif gate_type[node_name] == 'xnor2':\n",
    "                return xnor(gate_bits[list(event_graph.predecessors(node_name))[0]][-1], gate_bits[list(event_graph.predecessors(node_name))[1]][-1])\n",
    "            elif gate_type[node_name] == 'buf':\n",
    "                return int(gate_bits[list(event_graph.predecessors(node_name))[0]][-1])\n",
    "\n",
    "    # Reading first line from input file\n",
    "    line = data[1]\n",
    "    i = line.split()\n",
    "    for j in range(len(i)):\n",
    "        # Dequeing node\n",
    "        node_dequeue = waitlist.popleft()\n",
    "        gate_bits[node_dequeue].append(bit_dequeue(node_dequeue, pi_bit=int(i[j])))\n",
    "        # Queing all successor nodes\n",
    "        for succ in list(event_graph.successors(node_dequeue)):\n",
    "            waitlist.append(succ)\n",
    "            \n",
    "    while(len(waitlist)>0):\n",
    "        node_dequeue = waitlist.popleft()\n",
    "        gate_bits[node_dequeue].append(bit_dequeue(node_dequeue))\n",
    "        for succ in list(event_graph.successors(node_dequeue)):\n",
    "            waitlist.append(succ)\n",
    "\n",
    "    # Extracting the latest bit in the list, as that is the true value\n",
    "    for i in all_nodes:\n",
    "        gate_bits[i] = [gate_bits[i][-1]]\n",
    "\n",
    "    ordered_gates = [k for k,v in gate_bits.items()]\n",
    "    # Sorting alphabetically\n",
    "    ordered_gates.sort(key=lambda item: (len(item), item))\n",
    "    event_output = {}\n",
    "    for i in ordered_gates:\n",
    "        event_output[i] = [(gate_bits[i][0])]\n",
    "\n",
    "    def solve_queue(node_id, new_bit, q, flag = 0):\n",
    "        # Execute until queue is empty\n",
    "        while(len(q) > 0 or flag == 0):\n",
    "            flag = 1\n",
    "            # Compare with old_bit\n",
    "            if gate_bits[node_id][-1] == new_bit:\n",
    "                gate_bits[node_id].append(new_bit)\n",
    "\n",
    "            # If not same, queue all successor nodes and dequeue current node\n",
    "            # by applying logic operations on predecessor nodes\n",
    "            else:\n",
    "                # queue current node\n",
    "                q.append(node_id)\n",
    "                gate_bits[node_id].append(new_bit)\n",
    "                q.popleft()\n",
    "                for succ in list(event_graph.successors(node_id)):\n",
    "                    in1 = gate_bits[list(event_graph.predecessors(succ))[0]][-1]\n",
    "                    if gate_type[succ] == 'inv' or gate_type[succ] == 'buf':\n",
    "                        in2 = -1\n",
    "                    else:\n",
    "                        in2 = gate_bits[list(event_graph.predecessors(succ))[1]][-1]\n",
    "                        output_new_bit = gate_op(succ, in1, in2, gate_type)\n",
    "                        solve_queue(succ, output_new_bit, q)\n",
    "\n",
    "    # Writing to output file      \n",
    "    for j in ordered_gates:\n",
    "        outputFile.write(str(j) + \" \")\n",
    "    outputFile.write('\\n')\n",
    "    for j in ordered_gates:\n",
    "        outputFile.write(str(gate_bits[j][0]) + \" \")\n",
    "    outputFile.write(\"\\n\")\n",
    "    for line in data[2:]:\n",
    "        outputLine = \"\"\n",
    "        if line == ''        :\n",
    "            continue\n",
    "        i = line.split()\n",
    "        for j in range(len(input_gate)):\n",
    "            # Queue for nodes with mismatching bits\n",
    "            state_queue = deque()\n",
    "            solve_queue(input_gate[j], int(i[j]), state_queue)\n",
    "        for j in ordered_gates:\n",
    "            gate_bits[j] = [gate_bits[j][-1]]\n",
    "            outputLine += str(gate_bits[j][0]) + \" \"\n",
    "        outputFile.write(outputLine + '\\n')  \n",
    "    outputFile.close() \n"
   ]
  },
  {
   "cell_type": "code",
   "execution_count": 20,
   "metadata": {},
   "outputs": [
    {
     "name": "stdout",
     "output_type": "stream",
     "text": [
      "[Errno 2] No such file or directory: 'benchmarks/c17.net'\n"
     ]
    },
    {
     "ename": "TypeError",
     "evalue": "cannot unpack non-iterable NoneType object",
     "output_type": "error",
     "traceback": [
      "\u001b[0;31m---------------------------------------------------------------------------\u001b[0m",
      "\u001b[0;31mTypeError\u001b[0m                                 Traceback (most recent call last)",
      "Cell \u001b[0;32mIn[20], line 1\u001b[0m\n\u001b[0;32m----> 1\u001b[0m get_ipython()\u001b[39m.\u001b[39;49mrun_line_magic(\u001b[39m'\u001b[39;49m\u001b[39mtimeit\u001b[39;49m\u001b[39m'\u001b[39;49m, \u001b[39m\"\u001b[39;49m\u001b[39mevent_simulate_gate(\u001b[39;49m\u001b[39m'\u001b[39;49m\u001b[39mbenchmarks/c17.net\u001b[39;49m\u001b[39m'\u001b[39;49m\u001b[39m, \u001b[39;49m\u001b[39m'\u001b[39;49m\u001b[39mbenchmarks/c17.inputs\u001b[39;49m\u001b[39m'\u001b[39;49m\u001b[39m, \u001b[39;49m\u001b[39m'\u001b[39;49m\u001b[39mc17_event.outputs\u001b[39;49m\u001b[39m'\u001b[39;49m\u001b[39m)\u001b[39;49m\u001b[39m\"\u001b[39;49m)\n",
      "File \u001b[0;32m~/.local/lib/python3.8/site-packages/IPython/core/interactiveshell.py:2369\u001b[0m, in \u001b[0;36mInteractiveShell.run_line_magic\u001b[0;34m(self, magic_name, line, _stack_depth)\u001b[0m\n\u001b[1;32m   2367\u001b[0m     kwargs[\u001b[39m'\u001b[39m\u001b[39mlocal_ns\u001b[39m\u001b[39m'\u001b[39m] \u001b[39m=\u001b[39m \u001b[39mself\u001b[39m\u001b[39m.\u001b[39mget_local_scope(stack_depth)\n\u001b[1;32m   2368\u001b[0m \u001b[39mwith\u001b[39;00m \u001b[39mself\u001b[39m\u001b[39m.\u001b[39mbuiltin_trap:\n\u001b[0;32m-> 2369\u001b[0m     result \u001b[39m=\u001b[39m fn(\u001b[39m*\u001b[39;49margs, \u001b[39m*\u001b[39;49m\u001b[39m*\u001b[39;49mkwargs)\n\u001b[1;32m   2370\u001b[0m \u001b[39mreturn\u001b[39;00m result\n",
      "File \u001b[0;32m~/.local/lib/python3.8/site-packages/IPython/core/magics/execution.py:1162\u001b[0m, in \u001b[0;36mExecutionMagics.timeit\u001b[0;34m(self, line, cell, local_ns)\u001b[0m\n\u001b[1;32m   1160\u001b[0m \u001b[39mfor\u001b[39;00m index \u001b[39min\u001b[39;00m \u001b[39mrange\u001b[39m(\u001b[39m0\u001b[39m, \u001b[39m10\u001b[39m):\n\u001b[1;32m   1161\u001b[0m     number \u001b[39m=\u001b[39m \u001b[39m10\u001b[39m \u001b[39m*\u001b[39m\u001b[39m*\u001b[39m index\n\u001b[0;32m-> 1162\u001b[0m     time_number \u001b[39m=\u001b[39m timer\u001b[39m.\u001b[39;49mtimeit(number)\n\u001b[1;32m   1163\u001b[0m     \u001b[39mif\u001b[39;00m time_number \u001b[39m>\u001b[39m\u001b[39m=\u001b[39m \u001b[39m0.2\u001b[39m:\n\u001b[1;32m   1164\u001b[0m         \u001b[39mbreak\u001b[39;00m\n",
      "File \u001b[0;32m~/.local/lib/python3.8/site-packages/IPython/core/magics/execution.py:156\u001b[0m, in \u001b[0;36mTimer.timeit\u001b[0;34m(self, number)\u001b[0m\n\u001b[1;32m    154\u001b[0m gc\u001b[39m.\u001b[39mdisable()\n\u001b[1;32m    155\u001b[0m \u001b[39mtry\u001b[39;00m:\n\u001b[0;32m--> 156\u001b[0m     timing \u001b[39m=\u001b[39m \u001b[39mself\u001b[39;49m\u001b[39m.\u001b[39;49minner(it, \u001b[39mself\u001b[39;49m\u001b[39m.\u001b[39;49mtimer)\n\u001b[1;32m    157\u001b[0m \u001b[39mfinally\u001b[39;00m:\n\u001b[1;32m    158\u001b[0m     \u001b[39mif\u001b[39;00m gcold:\n",
      "File \u001b[0;32m<magic-timeit>:1\u001b[0m, in \u001b[0;36minner\u001b[0;34m(_it, _timer)\u001b[0m\n",
      "Cell \u001b[0;32mIn[19], line 3\u001b[0m, in \u001b[0;36mevent_simulate_gate\u001b[0;34m(net_file, inp_file, out_file)\u001b[0m\n\u001b[1;32m      1\u001b[0m \u001b[39mdef\u001b[39;00m \u001b[39mevent_simulate_gate\u001b[39m(net_file, inp_file, out_file):\n\u001b[1;32m      2\u001b[0m     outputFile \u001b[39m=\u001b[39m \u001b[39mopen\u001b[39m(out_file, \u001b[39m\"\u001b[39m\u001b[39mw\u001b[39m\u001b[39m\"\u001b[39m)\n\u001b[0;32m----> 3\u001b[0m     edges, gate_type \u001b[39m=\u001b[39m readNet(net_file)\n\u001b[1;32m      4\u001b[0m     event_graph \u001b[39m=\u001b[39m nx\u001b[39m.\u001b[39mDiGraph()\n\u001b[1;32m      5\u001b[0m     event_graph\u001b[39m.\u001b[39madd_edges_from(edges)\n",
      "\u001b[0;31mTypeError\u001b[0m: cannot unpack non-iterable NoneType object"
     ]
    }
   ],
   "source": [
    "%timeit event_simulate_gate('benchmarks/c17.net', 'benchmarks/c17.inputs', 'c17_event.outputs')"
   ]
  },
  {
   "cell_type": "markdown",
   "metadata": {},
   "source": [
    "## Comparing outputs"
   ]
  },
  {
   "cell_type": "code",
   "execution_count": 21,
   "metadata": {},
   "outputs": [
    {
     "name": "stdout",
     "output_type": "stream",
     "text": [
      "Using event based evaluation:\n",
      "[Errno 2] No such file or directory: 'benchmarks/c17.net'\n"
     ]
    },
    {
     "ename": "TypeError",
     "evalue": "cannot unpack non-iterable NoneType object",
     "output_type": "error",
     "traceback": [
      "\u001b[0;31m---------------------------------------------------------------------------\u001b[0m",
      "\u001b[0;31mTypeError\u001b[0m                                 Traceback (most recent call last)",
      "Cell \u001b[0;32mIn[21], line 2\u001b[0m\n\u001b[1;32m      1\u001b[0m \u001b[39mprint\u001b[39m(\u001b[39m'\u001b[39m\u001b[39mUsing event based evaluation:\u001b[39m\u001b[39m'\u001b[39m)\n\u001b[0;32m----> 2\u001b[0m get_ipython()\u001b[39m.\u001b[39;49mrun_line_magic(\u001b[39m'\u001b[39;49m\u001b[39mtimeit\u001b[39;49m\u001b[39m'\u001b[39;49m, \u001b[39m\"\u001b[39;49m\u001b[39mevent_simulate_gate(\u001b[39;49m\u001b[39m'\u001b[39;49m\u001b[39mbenchmarks/c17.net\u001b[39;49m\u001b[39m'\u001b[39;49m\u001b[39m, \u001b[39;49m\u001b[39m'\u001b[39;49m\u001b[39mbenchmarks/c17.inputs\u001b[39;49m\u001b[39m'\u001b[39;49m\u001b[39m, \u001b[39;49m\u001b[39m'\u001b[39;49m\u001b[39mwhat_c17_event.outputs\u001b[39;49m\u001b[39m'\u001b[39;49m\u001b[39m)\u001b[39;49m\u001b[39m\"\u001b[39;49m)\n\u001b[1;32m      3\u001b[0m get_ipython()\u001b[39m.\u001b[39mrun_line_magic(\u001b[39m'\u001b[39m\u001b[39mtimeit\u001b[39m\u001b[39m'\u001b[39m, \u001b[39m\"\u001b[39m\u001b[39mevent_simulate_gate(\u001b[39m\u001b[39m'\u001b[39m\u001b[39mbenchmarks/c432.net\u001b[39m\u001b[39m'\u001b[39m\u001b[39m, \u001b[39m\u001b[39m'\u001b[39m\u001b[39mbenchmarks/c432.inputs\u001b[39m\u001b[39m'\u001b[39m\u001b[39m, \u001b[39m\u001b[39m'\u001b[39m\u001b[39mwhat_c432_event.outputs\u001b[39m\u001b[39m'\u001b[39m\u001b[39m)\u001b[39m\u001b[39m\"\u001b[39m)\n\u001b[1;32m      4\u001b[0m get_ipython()\u001b[39m.\u001b[39mrun_line_magic(\u001b[39m'\u001b[39m\u001b[39mtimeit\u001b[39m\u001b[39m'\u001b[39m, \u001b[39m\"\u001b[39m\u001b[39mevent_simulate_gate(\u001b[39m\u001b[39m'\u001b[39m\u001b[39mbenchmarks/c8.net\u001b[39m\u001b[39m'\u001b[39m\u001b[39m, \u001b[39m\u001b[39m'\u001b[39m\u001b[39mbenchmarks/c8.inputs\u001b[39m\u001b[39m'\u001b[39m\u001b[39m, \u001b[39m\u001b[39m'\u001b[39m\u001b[39mwhat_c8_event.outputs\u001b[39m\u001b[39m'\u001b[39m\u001b[39m)\u001b[39m\u001b[39m\"\u001b[39m)\n",
      "File \u001b[0;32m~/.local/lib/python3.8/site-packages/IPython/core/interactiveshell.py:2369\u001b[0m, in \u001b[0;36mInteractiveShell.run_line_magic\u001b[0;34m(self, magic_name, line, _stack_depth)\u001b[0m\n\u001b[1;32m   2367\u001b[0m     kwargs[\u001b[39m'\u001b[39m\u001b[39mlocal_ns\u001b[39m\u001b[39m'\u001b[39m] \u001b[39m=\u001b[39m \u001b[39mself\u001b[39m\u001b[39m.\u001b[39mget_local_scope(stack_depth)\n\u001b[1;32m   2368\u001b[0m \u001b[39mwith\u001b[39;00m \u001b[39mself\u001b[39m\u001b[39m.\u001b[39mbuiltin_trap:\n\u001b[0;32m-> 2369\u001b[0m     result \u001b[39m=\u001b[39m fn(\u001b[39m*\u001b[39;49margs, \u001b[39m*\u001b[39;49m\u001b[39m*\u001b[39;49mkwargs)\n\u001b[1;32m   2370\u001b[0m \u001b[39mreturn\u001b[39;00m result\n",
      "File \u001b[0;32m~/.local/lib/python3.8/site-packages/IPython/core/magics/execution.py:1162\u001b[0m, in \u001b[0;36mExecutionMagics.timeit\u001b[0;34m(self, line, cell, local_ns)\u001b[0m\n\u001b[1;32m   1160\u001b[0m \u001b[39mfor\u001b[39;00m index \u001b[39min\u001b[39;00m \u001b[39mrange\u001b[39m(\u001b[39m0\u001b[39m, \u001b[39m10\u001b[39m):\n\u001b[1;32m   1161\u001b[0m     number \u001b[39m=\u001b[39m \u001b[39m10\u001b[39m \u001b[39m*\u001b[39m\u001b[39m*\u001b[39m index\n\u001b[0;32m-> 1162\u001b[0m     time_number \u001b[39m=\u001b[39m timer\u001b[39m.\u001b[39;49mtimeit(number)\n\u001b[1;32m   1163\u001b[0m     \u001b[39mif\u001b[39;00m time_number \u001b[39m>\u001b[39m\u001b[39m=\u001b[39m \u001b[39m0.2\u001b[39m:\n\u001b[1;32m   1164\u001b[0m         \u001b[39mbreak\u001b[39;00m\n",
      "File \u001b[0;32m~/.local/lib/python3.8/site-packages/IPython/core/magics/execution.py:156\u001b[0m, in \u001b[0;36mTimer.timeit\u001b[0;34m(self, number)\u001b[0m\n\u001b[1;32m    154\u001b[0m gc\u001b[39m.\u001b[39mdisable()\n\u001b[1;32m    155\u001b[0m \u001b[39mtry\u001b[39;00m:\n\u001b[0;32m--> 156\u001b[0m     timing \u001b[39m=\u001b[39m \u001b[39mself\u001b[39;49m\u001b[39m.\u001b[39;49minner(it, \u001b[39mself\u001b[39;49m\u001b[39m.\u001b[39;49mtimer)\n\u001b[1;32m    157\u001b[0m \u001b[39mfinally\u001b[39;00m:\n\u001b[1;32m    158\u001b[0m     \u001b[39mif\u001b[39;00m gcold:\n",
      "File \u001b[0;32m<magic-timeit>:1\u001b[0m, in \u001b[0;36minner\u001b[0;34m(_it, _timer)\u001b[0m\n",
      "Cell \u001b[0;32mIn[19], line 3\u001b[0m, in \u001b[0;36mevent_simulate_gate\u001b[0;34m(net_file, inp_file, out_file)\u001b[0m\n\u001b[1;32m      1\u001b[0m \u001b[39mdef\u001b[39;00m \u001b[39mevent_simulate_gate\u001b[39m(net_file, inp_file, out_file):\n\u001b[1;32m      2\u001b[0m     outputFile \u001b[39m=\u001b[39m \u001b[39mopen\u001b[39m(out_file, \u001b[39m\"\u001b[39m\u001b[39mw\u001b[39m\u001b[39m\"\u001b[39m)\n\u001b[0;32m----> 3\u001b[0m     edges, gate_type \u001b[39m=\u001b[39m readNet(net_file)\n\u001b[1;32m      4\u001b[0m     event_graph \u001b[39m=\u001b[39m nx\u001b[39m.\u001b[39mDiGraph()\n\u001b[1;32m      5\u001b[0m     event_graph\u001b[39m.\u001b[39madd_edges_from(edges)\n",
      "\u001b[0;31mTypeError\u001b[0m: cannot unpack non-iterable NoneType object"
     ]
    }
   ],
   "source": [
    "print('Using event based evaluation:')\n",
    "%timeit event_simulate_gate('benchmarks/c17.net', 'benchmarks/c17.inputs', 'what_c17_event.outputs')\n",
    "%timeit event_simulate_gate('benchmarks/c432.net', 'benchmarks/c432.inputs', 'what_c432_event.outputs')\n",
    "%timeit event_simulate_gate('benchmarks/c8.net', 'benchmarks/c8.inputs', 'what_c8_event.outputs')\n",
    "%timeit event_simulate_gate('benchmarks/parity.net', 'benchmarks/parity.inputs', 'what_parity_event.outputs')\n",
    "\n",
    "print('Using topological sorting:')\n",
    "%timeit topo_simulate_gate('benchmarks/c17.net', 'benchmarks/c17.inputs', 'what_c17_event.outputs')\n",
    "%timeit topo_simulate_gate('benchmarks/c432.net', 'benchmarks/c432.inputs', 'what_c432_event.outputs')\n",
    "%timeit topo_simulate_gate('benchmarks/c8.net', 'benchmarks/c8.inputs', 'what_c8_event.outputs')\n",
    "%timeit topo_simulate_gate('benchmarks/parity.net', 'benchmarks/parity.inputs', 'what_parity_event.outputs')"
   ]
  },
  {
   "cell_type": "markdown",
   "metadata": {},
   "source": [
    "Upon running the functions for topological sorting as well as event-driven evaluation for different netlists, we obtain the following results:\n",
    "- For the c17 netlist inputs, both the methods take a similar amount of time to run. \n",
    "- For the c432 netlist inputs, the event-driven method takes a much larger amount of time - more than 10 times that taken by the topological sorting method.\n",
    "\n",
    "We infer that the time taken by the method depends on the size of the input dataset. c432 is a large dataset with multiple input values changing simultaneously from each state to the next, and there is a large number of states as well. Hence, evaluating outputs based on an event-driven method takes a large amount of time as it has to check for many values changing. On the other hand, the c17 dataset is small and there are fewer input values changing from one state to the next, so the event-driven method and the topological sorting method take similar amount of time.\n",
    "\n"
   ]
  }
 ],
 "metadata": {
  "kernelspec": {
   "display_name": "Python 3.8.10 64-bit",
   "language": "python",
   "name": "python3"
  },
  "language_info": {
   "codemirror_mode": {
    "name": "ipython",
    "version": 3
   },
   "file_extension": ".py",
   "mimetype": "text/x-python",
   "name": "python",
   "nbconvert_exporter": "python",
   "pygments_lexer": "ipython3",
   "version": "3.8.10"
  },
  "orig_nbformat": 4,
  "vscode": {
   "interpreter": {
    "hash": "916dbcbb3f70747c44a77c7bcd40155683ae19c65e1c03b4aa3499c5328201f1"
   }
  }
 },
 "nbformat": 4,
 "nbformat_minor": 2
}
